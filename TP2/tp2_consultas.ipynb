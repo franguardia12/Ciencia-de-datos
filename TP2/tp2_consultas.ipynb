{
  "nbformat": 4,
  "nbformat_minor": 0,
  "metadata": {
    "colab": {
      "provenance": []
    },
    "kernelspec": {
      "name": "python3",
      "display_name": "Python 3"
    },
    "language_info": {
      "name": "python"
    }
  },
  "cells": [
    {
      "cell_type": "code",
      "execution_count": 1,
      "metadata": {
        "colab": {
          "base_uri": "https://localhost:8080/"
        },
        "id": "jE_soehUMZ6K",
        "outputId": "1fa3f0e5-b17a-4167-c448-5ae194d09cba"
      },
      "outputs": [
        {
          "output_type": "stream",
          "name": "stdout",
          "text": [
            "Requirement already satisfied: pyspark in /usr/local/lib/python3.12/dist-packages (3.5.1)\n",
            "Requirement already satisfied: py4j==0.10.9.7 in /usr/local/lib/python3.12/dist-packages (from pyspark) (0.10.9.7)\n"
          ]
        }
      ],
      "source": [
        "!pip install pyspark"
      ]
    },
    {
      "cell_type": "code",
      "source": [
        "from pyspark import SparkContext\n",
        "from pyspark.sql import SparkSession\n",
        "import re"
      ],
      "metadata": {
        "id": "QFMj1aQ2O9W7"
      },
      "execution_count": 2,
      "outputs": []
    },
    {
      "cell_type": "code",
      "source": [
        "spark = SparkSession.builder.getOrCreate()\n",
        "sc = spark.sparkContext"
      ],
      "metadata": {
        "id": "TKATbRVEPKwn"
      },
      "execution_count": 3,
      "outputs": []
    },
    {
      "cell_type": "code",
      "source": [
        "rddCategorias = sc.textFile(\"categories.csv\")\n",
        "rddProductos = sc.textFile(\"products.csv\")\n",
        "rddResenias = sc.textFile(\"reviews.csv\")\n",
        "rddClientes = sc.textFile(\"customers.csv\")\n",
        "rddOrdenes = sc.textFile(\"orders.csv\")\n",
        "rddOrdenesProductos = sc.textFile(\"order_items.csv\")\n",
        "rddRegistrosInventario = sc.textFile(\"inventory_logs.csv\")"
      ],
      "metadata": {
        "id": "vh-lPImITsfe"
      },
      "execution_count": 4,
      "outputs": []
    },
    {
      "cell_type": "code",
      "source": [
        "import re\n",
        "import csv\n",
        "from io import StringIO\n",
        "\n",
        "def parsear_linea_csv(linea):\n",
        "    if linea.startswith(','):\n",
        "        return None\n",
        "    try:\n",
        "        archivo_csv = StringIO(linea)\n",
        "        lector = csv.reader(archivo_csv)\n",
        "        linea = next(lector)\n",
        "        return [campo.lower().strip() for campo in linea]\n",
        "    except:\n",
        "        return None"
      ],
      "metadata": {
        "id": "OFAz6ABiGNSv"
      },
      "execution_count": 5,
      "outputs": []
    },
    {
      "cell_type": "markdown",
      "source": [
        "## Consulta 1: Cuál es el estado que más descuentos tiene en total? y en promedio?"
      ],
      "metadata": {
        "id": "imGsupD_SWRI"
      }
    },
    {
      "cell_type": "code",
      "source": [
        "def extraer_estado_y_descuento (linea):\n",
        "    billing_address = linea[7]\n",
        "    discount_amount_str = linea[8]\n",
        "\n",
        "    matching = re.search(r',?\\s*([A-Za-z]{2})\\s*\\d{5}', billing_address, flags=re.IGNORECASE)\n",
        "    estado = matching.group(1).upper()\n",
        "    descuento = float(discount_amount_str)\n",
        "\n",
        "    return (estado, descuento)\n",
        "\n",
        "rddOrdenes_parseadas = rddOrdenes.map(parsear_linea_csv).filter(lambda linea: linea is not None)\n",
        "\n",
        "rddOrdenes_filtradas = rddOrdenes_parseadas.filter(lambda linea: len(linea) > 8 and linea[8] != '' and linea[7] != '' and linea[7] != 'undefined' and float(linea[8]) > 0)\n",
        "\n",
        "rddOrdenes_con_estado_descuento = rddOrdenes_filtradas.map(extraer_estado_y_descuento)\n",
        "\n",
        "rddOrdenes_con_estado_descuento.cache()\n",
        "\n",
        "total_descuento_por_estado = rddOrdenes_con_estado_descuento.reduceByKey(lambda x, y: x + y)\n",
        "\n",
        "conteo_descuento_por_estado = rddOrdenes_con_estado_descuento.mapValues(lambda x: (x, 1))\n",
        "\n",
        "total_descuento_y_conteo_por_estado = conteo_descuento_por_estado.reduceByKey(lambda x, y: (x[0] + y[0], x[1] + y[1]))\n",
        "\n",
        "promedio_descuento_por_estado = total_descuento_y_conteo_por_estado.mapValues(lambda x: x[0] / x[1] if x[1] > 0 else 0)\n",
        "\n",
        "estado_mas_descuentos = total_descuento_por_estado.reduce(lambda x, y: x if x[1] > y[1] else y)\n",
        "\n",
        "estado_mas_descuentos_promedio = promedio_descuento_por_estado.reduce(lambda x, y: x if x[1] > y[1] else y)\n",
        "\n",
        "display(estado_mas_descuentos, estado_mas_descuentos_promedio)"
      ],
      "metadata": {
        "colab": {
          "base_uri": "https://localhost:8080/",
          "height": 53
        },
        "id": "W7I29tlCJntE",
        "outputId": "7fbe9637-2582-41f5-b832-0bd556556727"
      },
      "execution_count": null,
      "outputs": [
        {
          "output_type": "display_data",
          "data": {
            "text/plain": [
              "('AE', 1625258.6600000004)"
            ]
          },
          "metadata": {}
        },
        {
          "output_type": "display_data",
          "data": {
            "text/plain": [
              "('NC', 50.67375117676878)"
            ]
          },
          "metadata": {}
        }
      ]
    },
    {
      "cell_type": "markdown",
      "source": [
        "## Consulta 2: ¿Cuáles son los 5 códigos postales más comunes para las órdenes con estado ‘Refunded’? ¿Y cuál es el nombre más frecuente entre los clientes de esas direcciones?"
      ],
      "metadata": {
        "id": "E5vvqWWDvBIZ"
      }
    },
    {
      "cell_type": "code",
      "source": [
        "def extraer_id_y_codigo_postal(linea):\n",
        "    customer_id = linea[2]\n",
        "    billing_address = linea[7]\n",
        "\n",
        "    matching = re.search(r'\\s+(\\d{5})\\s*$', billing_address)\n",
        "    if matching:\n",
        "        codigo_postal = matching.group(1)\n",
        "        return (customer_id, codigo_postal)\n",
        "    return None\n",
        "\n",
        "rddOrdenes_parseadas = rddOrdenes.map(parsear_linea_csv).filter(lambda linea: linea is not None)\n",
        "\n",
        "rddOrdenes_filtradas = rddOrdenes_parseadas.filter(lambda linea: len(linea) > 7 and linea[2] != '' and linea[4] == 'refunded' and linea[7] != 'undefined' and linea[7] != '')\n",
        "\n",
        "rddOrdenes_con_id_codigo_postal = rddOrdenes_filtradas.map(extraer_id_y_codigo_postal).filter(lambda x: x is not None)\n",
        "\n",
        "rddOrdenes_con_id_codigo_postal.cache()\n",
        "\n",
        "cantidad_ordenes_por_codigo_postal = rddOrdenes_con_id_codigo_postal.map(lambda x: (x[1], 1)).reduceByKey(lambda x, y: x + y)\n",
        "\n",
        "top_5_codigos_postales = cantidad_ordenes_por_codigo_postal.takeOrdered(5, key=lambda x: -x[1])\n",
        "\n",
        "top_5_codigos = [codigo for codigo, count in top_5_codigos_postales]\n",
        "\n",
        "rddClientes_con_id_nombre = rddClientes.map(parsear_linea_csv).filter(lambda linea: linea is not None and len(linea) > 3 and linea[1] != '' and linea[3] != 'undefined' and linea[3] != '').map(lambda linea: (linea[1], linea[3]))\n",
        "\n",
        "rddOrdenes_con_id_codigoPostal_nombre = rddOrdenes_con_id_codigo_postal.join(rddClientes_con_id_nombre)\n",
        "\n",
        "rddOrdenes_top_5_codigos_postales = rddOrdenes_con_id_codigoPostal_nombre.filter(lambda x: x[1][0] in top_5_codigos)\n",
        "\n",
        "cantidad_ordenes_por_nombre = rddOrdenes_top_5_codigos_postales.map(lambda x: (x[1][1], 1)).reduceByKey(lambda x, y: x + y)\n",
        "\n",
        "nombre_mas_frecuente = cantidad_ordenes_por_nombre.reduce(lambda x, y: x if x[1] > y[1] else y)\n",
        "\n",
        "display(top_5_codigos_postales, nombre_mas_frecuente)"
      ],
      "metadata": {
        "colab": {
          "base_uri": "https://localhost:8080/",
          "height": 53
        },
        "id": "poxoV1n_L-cO",
        "outputId": "f3542364-9652-4c6b-daa3-de183f34da23"
      },
      "execution_count": null,
      "outputs": [
        {
          "output_type": "display_data",
          "data": {
            "text/plain": [
              "[('31571', 6), ('09045', 5), ('14396', 5), ('73291', 5), ('91623', 5)]"
            ]
          },
          "metadata": {}
        },
        {
          "output_type": "display_data",
          "data": {
            "text/plain": [
              "('jamie', 1)"
            ]
          },
          "metadata": {}
        }
      ]
    },
    {
      "cell_type": "markdown",
      "source": [
        "## Consulta 3: Para cada tipo de pago y segmento de cliente, devolver la suma y el promedio expresado como porcentaje, de clientes activos y de consentimiento de marketing."
      ],
      "metadata": {
        "id": "GG9k2tyTbmGF"
      }
    },
    {
      "cell_type": "code",
      "source": [
        "rddOrdenes_parseadas = rddOrdenes.map(parsear_linea_csv).filter(lambda linea: linea is not None)\n",
        "\n",
        "rddOrdenes_filtradas = rddOrdenes_parseadas.filter(lambda linea: len(linea) > 5 and linea[1] != '' and linea[5] != '' and linea[5] != 'undefined')\n",
        "\n",
        "rddClientes_parseados = rddClientes.map(parsear_linea_csv).filter(lambda linea: linea is not None)\n",
        "\n",
        "rddClientes_filtrados = rddClientes_parseados.filter(lambda linea: len(linea) > 16 and linea[1] != '' and linea[14] != '' and linea[15] != '' and linea[16] != '' and linea[15] != 'undefined')\n",
        "\n",
        "rddOrdenes_con_id_MetodoPago = rddOrdenes_filtradas.map(lambda linea: (linea[1], linea[5])).reduceByKey(lambda x, y: x)\n",
        "\n",
        "rddClientes_reducidos = rddClientes_filtrados.map(lambda linea: (linea[1], (linea[14], linea[15], linea[16])))\n",
        "\n",
        "rddOrdenes_clientes = rddOrdenes_con_id_MetodoPago.join(rddClientes_reducidos)\n",
        "\n",
        "rddPagos_segmentos_clientes = rddOrdenes_clientes.map(lambda x: ((x[1][0], x[1][1][1]), (x[1][1][0] == 'true', x[1][1][2] == 'true')))\n",
        "\n",
        "suma_y_cantidad_clientes = rddPagos_segmentos_clientes.mapValues(lambda x: (int(x[0]), int(x[1]), 1)).reduceByKey(lambda x, y: (x[0] + y[0], x[1] + y[1], x[2] + y[2]))\n",
        "\n",
        "resultado = suma_y_cantidad_clientes.mapValues(lambda x: (x[0], x[1], (x[0]/x[2])*100 if x[2] > 0 else 0, (x[1]/x[2])*100 if x[2] > 0 else 0))\n",
        "\n",
        "display(resultado.collect())"
      ],
      "metadata": {
        "colab": {
          "base_uri": "https://localhost:8080/",
          "height": 589
        },
        "id": "LqsTTSB8O4-I",
        "outputId": "f06d8e86-e9a0-4aaa-e5ad-f4ad71894fad"
      },
      "execution_count": null,
      "outputs": [
        {
          "output_type": "display_data",
          "data": {
            "text/plain": [
              "[(('credit card', 'budget'),\n",
              "  (12366, 9560, 90.14433590902465, 69.68945910482577)),\n",
              " (('credit card', 'regular'),\n",
              "  (37168, 28856, 89.9907994770229, 69.86586605975498)),\n",
              " (('digital wallet', 'premium'),\n",
              "  (12529, 9718, 89.9813272048262, 69.79316288422866)),\n",
              " (('digital wallet', 'regular'),\n",
              "  (37513, 29101, 90.03696236559139, 69.84687019969277)),\n",
              " (('paypal', 'budget'), (12339, 9576, 89.96718920889538, 69.82136347065257)),\n",
              " (('cash on delivery', 'budget'),\n",
              "  (12328, 9488, 90.26872666032072, 69.47353005784579)),\n",
              " (('paypal', 'premium'), (12483, 9659, 90.12996389891697, 69.74007220216608)),\n",
              " (('bank transfer', 'budget'),\n",
              "  (12457, 9703, 89.9032909930716, 70.02742494226328)),\n",
              " (('credit card', 'premium'),\n",
              "  (12426, 9768, 89.36996547756041, 70.25316455696202)),\n",
              " (('cash on delivery', 'premium'),\n",
              "  (12522, 9739, 89.85361653272102, 69.8837543053961)),\n",
              " (('digital wallet', 'budget'),\n",
              "  (12326, 9645, 90.23426061493412, 70.60761346998537)),\n",
              " (('cash on delivery', 'regular'),\n",
              "  (37426, 29168, 89.93607920411401, 70.09179603018215)),\n",
              " (('debit card', 'premium'),\n",
              "  (12288, 9558, 90.03516998827668, 70.03223915592028)),\n",
              " (('debit card', 'budget'),\n",
              "  (12381, 9684, 89.72389303572723, 70.17899847815059)),\n",
              " (('bank transfer', 'regular'),\n",
              "  (37092, 28885, 90.01164822364589, 70.09561250242672)),\n",
              " (('paypal', 'regular'), (37013, 28822, 89.92249945336604, 70.02259420325065)),\n",
              " (('debit card', 'regular'),\n",
              "  (37295, 29019, 90.0345218839775, 70.05528329671921)),\n",
              " (('bank transfer', 'premium'), (12502, 9657, 89.8132183908046, 69.375))]"
            ]
          },
          "metadata": {}
        }
      ]
    },
    {
      "cell_type": "markdown",
      "source": [
        "## Consulta 4: Para los productos que contienen en su descripción la palabra “stuff” (sin importar mayúsculas o minúsculas), calcular el peso total de su inventario agrupado por marca, mostrar sólo la marca y el peso total de las 5 más pesadas."
      ],
      "metadata": {
        "id": "7uQ2jk6-Tadl"
      }
    },
    {
      "cell_type": "code",
      "source": [
        "rddProductos_parseados = rddProductos.map(parsear_linea_csv).filter(lambda linea: linea is not None)\n",
        "\n",
        "rddProductos_filtrados = rddProductos_parseados.filter(lambda linea: len(linea) > 10 and linea[4] != '' and linea[4] != 'undefined' and linea[8] != '' and 'stuff' in linea[10])\n",
        "\n",
        "rddProductos_con_marca_peso = rddProductos_filtrados.map(lambda linea: (linea[4], float(linea[8])))\n",
        "\n",
        "peso_total_por_marca = rddProductos_con_marca_peso.reduceByKey(lambda x, y: x + y)\n",
        "\n",
        "top_5_marcas_pesadas = peso_total_por_marca.takeOrdered(5, key=lambda x: -x[1])\n",
        "\n",
        "display(top_5_marcas_pesadas)"
      ],
      "metadata": {
        "colab": {
          "base_uri": "https://localhost:8080/",
          "height": 106
        },
        "id": "_rrmVODFUXZW",
        "outputId": "b4590de1-5cff-4d8a-8714-7e6f81d0d121"
      },
      "execution_count": null,
      "outputs": [
        {
          "output_type": "display_data",
          "data": {
            "text/plain": [
              "[('3m', 4250.86),\n",
              " ('wayfair', 4080.1700000000005),\n",
              " ('adidas', 4057.3400000000006),\n",
              " ('nike', 3614.9600000000005),\n",
              " ('hasbro', 3338.5799999999995)]"
            ]
          },
          "metadata": {}
        }
      ]
    },
    {
      "cell_type": "markdown",
      "source": [
        "## Consulta 5: Calcular el porcentaje de productos cuyo stock es al menos 20% más alto que el stock promedio de su marca"
      ],
      "metadata": {
        "id": "Ro4wlWBfuska"
      }
    },
    {
      "cell_type": "code",
      "source": [
        "total_productos = rddProductos.count()\n",
        "\n",
        "rddProductos_parseados = rddProductos.map(parsear_linea_csv).filter(lambda linea: linea is not None)\n",
        "\n",
        "rddProductos_filtrados = rddProductos_parseados.filter(lambda linea: len(linea) > 7 and linea[4] != '' and linea[4] != 'undefined' and linea[7] != '')\n",
        "\n",
        "rddProductos_con_marca_stock = rddProductos_filtrados.map(lambda linea: (linea[4], float(linea[7])))\n",
        "\n",
        "rddProductos_con_marca_stock.cache()\n",
        "\n",
        "stock_promedio_por_marca = rddProductos_con_marca_stock.map(lambda x: (x[0], (x[1], 1))).reduceByKey(lambda x, y: (x[0] + y[0], x[1] + y[1])).mapValues(lambda x: x[0] / x[1])\n",
        "\n",
        "rddProductos_con_stock_por_marca = rddProductos_con_marca_stock.join(stock_promedio_por_marca)\n",
        "\n",
        "rddProductos_con_stock_al_menos_20_porciento_mas_alto = rddProductos_con_stock_por_marca.filter(lambda x: x[1][0] > ((0.2 * x[1][1]) + x[1][1]))\n",
        "\n",
        "porcentaje_productos_al_menos_20_porciento_mas_alto = rddProductos_con_stock_al_menos_20_porciento_mas_alto.count() / total_productos * 100\n",
        "\n",
        "display(porcentaje_productos_al_menos_20_porciento_mas_alto)"
      ],
      "metadata": {
        "colab": {
          "base_uri": "https://localhost:8080/",
          "height": 35
        },
        "id": "sfnjGdZFU1i9",
        "outputId": "25cf0b48-17f5-4713-a705-0c10f7d33359"
      },
      "execution_count": null,
      "outputs": [
        {
          "output_type": "display_data",
          "data": {
            "text/plain": [
              "25.075404230747083"
            ]
          },
          "metadata": {}
        }
      ]
    },
    {
      "cell_type": "markdown",
      "source": [
        "## Consulta 6: Obtener la cantidad de órdenes que no hayan comprado ninguno de los 10 productos más vendidos."
      ],
      "metadata": {
        "id": "711PQIyeHfgI"
      }
    },
    {
      "cell_type": "code",
      "source": [
        "rddOrdenesProductos_parseados = rddOrdenesProductos.map(parsear_linea_csv).filter(lambda linea: linea is not None)\n",
        "\n",
        "rddOrdenesProductos_filtrados = rddOrdenesProductos_parseados.filter(lambda linea: len(linea) > 3 and linea[3] != '')\n",
        "\n",
        "rddOrdenesProductos_producto_ordenes = rddOrdenesProductos_filtrados.map(lambda linea: (linea[3], 1))\n",
        "\n",
        "top_10_productos = rddOrdenesProductos_producto_ordenes.reduceByKey(lambda x, y: x + y).takeOrdered(10, key=lambda x: -x[1])\n",
        "\n",
        "top_10_ids = [id_producto for id_producto, cuenta in top_10_productos]\n",
        "\n",
        "ordenes_productos_sin_top_10 = rddOrdenesProductos_filtrados.filter(lambda linea: linea[3] not in top_10_ids)\n",
        "\n",
        "ids_ordenes_unicos_sin_top_10 = ordenes_productos_sin_top_10.map(lambda linea: linea[1]).distinct()\n",
        "\n",
        "cantidad_ordenes_unicas_sin_top_10 = ids_ordenes_unicos_sin_top_10.count()\n",
        "\n",
        "display(cantidad_ordenes_unicas_sin_top_10)"
      ],
      "metadata": {
        "colab": {
          "base_uri": "https://localhost:8080/",
          "height": 35
        },
        "id": "GepLSD__IcDR",
        "outputId": "09ea8801-0627-4526-ff02-922049ce4c2d"
      },
      "execution_count": 12,
      "outputs": [
        {
          "output_type": "display_data",
          "data": {
            "text/plain": [
              "285131"
            ]
          },
          "metadata": {}
        }
      ]
    },
    {
      "cell_type": "markdown",
      "source": [
        "## Consulta 7: ¿Cuáles son los productos más vendidos en cada categoría padre?"
      ],
      "metadata": {
        "id": "p2Sqrk1bkW_p"
      }
    },
    {
      "cell_type": "code",
      "source": [
        "rddOrdenesProductos_parseados = rddOrdenesProductos.map(parsear_linea_csv).filter(lambda linea: linea is not None)\n",
        "\n",
        "rddOrdenesProductos_filtrados = rddOrdenesProductos_parseados.filter(lambda linea: len(linea) > 3 and linea[3] != '')\n",
        "\n",
        "rddOrdenesProductos_producto_ordenes = rddOrdenesProductos_filtrados.map(lambda linea: (linea[3], 1)).reduceByKey(lambda x, y: x + y)\n",
        "\n",
        "rddCategorias_parseadas = rddCategorias.map(parsear_linea_csv).filter(lambda linea: linea is not None)\n",
        "\n",
        "rddCategorias_filtradas = rddCategorias_parseadas.filter(lambda linea: len(linea) > 3 and linea[1] != '' and linea[3] != '' and linea[3] != 'undefined')\n",
        "\n",
        "rddCategorias_nombres = rddCategorias_filtradas.map(lambda linea: (linea[1], linea[3]))\n",
        "\n",
        "rddProductos_parseados = rddProductos.map(parsear_linea_csv).filter(lambda linea: linea is not None)\n",
        "\n",
        "rddProductos_filtrados = rddProductos_parseados.filter(lambda linea: len(linea) > 3 and linea[1] != '' and linea[3] != '' and linea[2] != '' and linea[2] != 'undefined')\n",
        "\n",
        "rddProductos_info = rddProductos_filtrados.map(lambda linea: (linea[1], (linea[2], linea[3])))\n",
        "\n",
        "rddProductos_vendidos_info = rddProductos_info.join(rddOrdenesProductos_producto_ordenes)\n",
        "\n",
        "rddProductos_por_categoria = rddProductos_vendidos_info.map(lambda x: (x[1][0][1], (x[1][0][0], x[1][1])))\n",
        "\n",
        "rddProductos_por_categoria_con_nombre = rddProductos_por_categoria.join(rddCategorias_nombres)\n",
        "\n",
        "rddProductos_por_categoria_final = rddProductos_por_categoria_con_nombre.map(lambda x: (x[1][1], (x[1][0][0], x[1][0][1])))\n",
        "\n",
        "producto_mas_vendido_por_categoria = rddProductos_por_categoria_final.reduceByKey(lambda a, b: a if a[1] > b[1] else b)\n",
        "\n",
        "display(producto_mas_vendido_por_categoria.collect())"
      ],
      "metadata": {
        "colab": {
          "base_uri": "https://localhost:8080/",
          "height": 553
        },
        "id": "0XCCKzT9X3WJ",
        "outputId": "70986edb-39ff-4964-8d9f-e2e53ecc2eb1"
      },
      "execution_count": 13,
      "outputs": [
        {
          "output_type": "display_data",
          "data": {
            "text/plain": [
              "[('electronics', ('face-to-face composite forecast', 10)),\n",
              " ('tools & hardware', ('devolved secondary service-desk', 11)),\n",
              " ('pet care', ('proactive non-volatile throughput', 10)),\n",
              " ('music & movies', ('visionary systemic internet solution', 11)),\n",
              " ('musical instruments', ('synergistic hybrid website', 11)),\n",
              " ('shoes', ('phased grid-enabled system engine', 11)),\n",
              " ('tickets & experiences', ('face-to-face solution-oriented monitoring', 11)),\n",
              " ('kitchen & dining', ('multi-channeled methodical initiative', 10)),\n",
              " ('grocery & gourmet food', ('visionary dedicated extranet', 10)),\n",
              " ('office supplies', ('digitized eco-centric customer loyalty', 11)),\n",
              " ('industrial & scientific', ('ameliorated transitional superstructure', 10)),\n",
              " ('toys & games', ('re-contextualized mobile knowledgebase', 11)),\n",
              " ('art & crafts', ('total next generation concept', 10)),\n",
              " ('garden & outdoor', ('polarized demand-driven parallelism', 11)),\n",
              " ('automotive', ('universal actuating instruction set', 10)),\n",
              " ('food & beverages', ('seamless eco-centric core', 10)),\n",
              " ('jewelry', ('inverse local challenge', 11)),\n",
              " ('pet supplies', ('quality-focused system-worthy encoding', 10)),\n",
              " ('furniture', ('assimilated eco-centric standardization', 10)),\n",
              " ('home & garden', ('team-oriented exuding middleware', 9)),\n",
              " ('handmade', ('open-source value-added initiative', 11)),\n",
              " ('books', ('de-engineered regional moratorium', 10)),\n",
              " ('clothing', ('synergized holistic moratorium', 9)),\n",
              " ('games & virtual goods', ('total multimedia attitude', 10)),\n",
              " ('baby & kids', ('universal interactive concept', 9)),\n",
              " ('stationery', ('distributed needs-based pricing structure', 12)),\n",
              " ('health & beauty', ('advanced multi-state attitude', 11)),\n",
              " ('collectibles', ('balanced modular attitude', 10)),\n",
              " ('sports & outdoors', ('fundamental human-resource open architecture', 11)),\n",
              " ('travel', ('pre-emptive dedicated system engine', 10))]"
            ]
          },
          "metadata": {}
        }
      ]
    },
    {
      "cell_type": "markdown",
      "source": [
        "## Consulta 8: ¿Cuáles son las palabras más utilizadas en opiniones positivas y en opiniones negativas? (una opinión es positiva cuando tiene una puntuación mayor a 3 puntos y es negativa cuando es menor a 3 puntos)"
      ],
      "metadata": {
        "id": "Tt8bn9-wzv3l"
      }
    },
    {
      "cell_type": "code",
      "source": [
        "rddResenias_parseadas = rddResenias.map(parsear_linea_csv).filter(lambda linea: linea is not None)\n",
        "\n",
        "rddResenias_filtradas = rddResenias_parseadas.filter(lambda linea: len(linea) > 6 and linea[4] != '' and linea[6] != '' and linea[6] != 'undefined')\n",
        "\n",
        "rddResenias_puntuacion_opinion = rddResenias_filtradas.map(lambda linea: (float(linea[4]), linea[6]))\n",
        "\n",
        "rddResenias_puntuacion_opinion.cache()\n",
        "\n",
        "rddResenias_positivas = rddResenias_puntuacion_opinion.filter(lambda x: x[0] > 3)\n",
        "\n",
        "rddResenias_negativas = rddResenias_puntuacion_opinion.filter(lambda x: x[0] < 3)\n",
        "\n",
        "rddResenias_positivas_palabras = rddResenias_positivas.flatMap(lambda x: re.findall(r'\\b\\w+\\b', x[1]))\n",
        "\n",
        "rddResenias_negativas_palabras = rddResenias_negativas.flatMap(lambda x: re.findall(r'\\b\\w+\\b', x[1]))\n",
        "\n",
        "palabras_positivas_mas_usadas = rddResenias_positivas_palabras.map(lambda x: (x, 1)).reduceByKey(lambda x, y: x + y).takeOrdered(3, key=lambda x: -x[1])\n",
        "\n",
        "palabras_negativas_mas_usadas = rddResenias_negativas_palabras.map(lambda x: (x, 1)).reduceByKey(lambda x, y: x + y).takeOrdered(3, key=lambda x: -x[1])\n",
        "\n",
        "display(palabras_positivas_mas_usadas, palabras_negativas_mas_usadas)"
      ],
      "metadata": {
        "colab": {
          "base_uri": "https://localhost:8080/",
          "height": 53
        },
        "id": "ZCCcqUfFRogW",
        "outputId": "0dcaafca-9d44-4b46-e85d-e809040dd807"
      },
      "execution_count": null,
      "outputs": [
        {
          "output_type": "display_data",
          "data": {
            "text/plain": [
              "[('stuff', 1773), ('buy', 1772), ('answer', 1760)]"
            ]
          },
          "metadata": {}
        },
        {
          "output_type": "display_data",
          "data": {
            "text/plain": [
              "[('check', 265), ('game', 265), ('amount', 263)]"
            ]
          },
          "metadata": {}
        }
      ]
    },
    {
      "cell_type": "markdown",
      "source": [
        "## Consulta 9: ¿Cuáles son los estados con mayor cantidad de ventas?"
      ],
      "metadata": {
        "id": "h3MW5LQICYAb"
      }
    },
    {
      "cell_type": "code",
      "source": [
        "def extraer_estado(linea):\n",
        "    billing_address = linea[7]\n",
        "\n",
        "    matching = re.search(r',?\\s*([A-Za-z]{2})\\s*\\d{5}', billing_address, flags=re.IGNORECASE)\n",
        "    estado = matching.group(1).upper()\n",
        "\n",
        "    return estado\n",
        "\n",
        "rddOrdenes_parseadas = rddOrdenes.map(parsear_linea_csv).filter(lambda linea: linea is not None)\n",
        "\n",
        "rddOrdenes_filtradas = rddOrdenes_parseadas.filter(lambda linea: len(linea) > 7 and linea[7] != '' and linea[7] != 'undefined' and linea[4] == 'completed')\n",
        "\n",
        "rddOrdenes_con_estado = rddOrdenes_filtradas.map(extraer_estado)\n",
        "\n",
        "ventas_por_estado = rddOrdenes_con_estado.map(lambda linea: (linea, 1)).reduceByKey(lambda x, y: x + y)\n",
        "\n",
        "estados_con_mas_ventas = ventas_por_estado.takeOrdered(3, key=lambda x: -x[1])\n",
        "\n",
        "display(estados_con_mas_ventas)"
      ],
      "metadata": {
        "colab": {
          "base_uri": "https://localhost:8080/",
          "height": 35
        },
        "id": "1WDBpe0xTgFX",
        "outputId": "d903d597-c961-4a76-bb1e-e4379c3f2509"
      },
      "execution_count": null,
      "outputs": [
        {
          "output_type": "display_data",
          "data": {
            "text/plain": [
              "[('AE', 97669), ('AP', 97534), ('AA', 96728)]"
            ]
          },
          "metadata": {}
        }
      ]
    },
    {
      "cell_type": "markdown",
      "source": [
        "## Consulta 10: ¿Cuál es el valor promedio de una orden de compra para cada segmento de cliente?"
      ],
      "metadata": {
        "id": "ywhu4j6vMBfQ"
      }
    },
    {
      "cell_type": "code",
      "source": [
        "rddOrdenes_parseadas = rddOrdenes.map(parsear_linea_csv).filter(lambda linea: linea is not None)\n",
        "\n",
        "rddOrdenes_filtradas = rddOrdenes_parseadas.filter(lambda linea: len(linea) > 11 and linea[2] != '' and linea[11] != '')\n",
        "\n",
        "rddClientes_parseados = rddClientes.map(parsear_linea_csv).filter(lambda linea: linea is not None)\n",
        "\n",
        "rddClientes_filtrados = rddClientes_parseados.filter(lambda linea: len(linea) > 15 and linea[1] != '' and linea[15] != '' and linea[15] != 'undefined')\n",
        "\n",
        "rddOrdenes_con_id_valor = rddOrdenes_filtradas.map(lambda linea: (linea[2], float(linea[11])))\n",
        "\n",
        "rddClientes_reducidos = rddClientes_filtrados.map(lambda linea: (linea[1], (linea[15])))\n",
        "\n",
        "rddOrdenes_clientes = rddOrdenes_con_id_valor.join(rddClientes_reducidos)\n",
        "\n",
        "rddOrdenes_clientes_segmentos = rddOrdenes_clientes.map(lambda x: (x[1][1], (x[1][0], 1)))\n",
        "\n",
        "valor_promedio_por_segmento = rddOrdenes_clientes_segmentos.reduceByKey(lambda x, y: (x[0] + y[0], x[1] + y[1])).mapValues(lambda x: x[0] / x[1])\n",
        "\n",
        "display(valor_promedio_por_segmento.collect())"
      ],
      "metadata": {
        "colab": {
          "base_uri": "https://localhost:8080/",
          "height": 71
        },
        "id": "vO5yf0htUvHx",
        "outputId": "a18a1712-59d8-4653-9eb9-a911c2db4483"
      },
      "execution_count": null,
      "outputs": [
        {
          "output_type": "display_data",
          "data": {
            "text/plain": [
              "[('regular', 24.997134690962728),\n",
              " ('budget', 24.99471581416989),\n",
              " ('premium', 24.99973741902044)]"
            ]
          },
          "metadata": {}
        }
      ]
    }
  ]
}