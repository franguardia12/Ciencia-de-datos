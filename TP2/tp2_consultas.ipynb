{
  "nbformat": 4,
  "nbformat_minor": 0,
  "metadata": {
    "colab": {
      "provenance": []
    },
    "kernelspec": {
      "name": "python3",
      "display_name": "Python 3"
    },
    "language_info": {
      "name": "python"
    }
  },
  "cells": [
    {
      "cell_type": "code",
      "execution_count": 1,
      "metadata": {
        "colab": {
          "base_uri": "https://localhost:8080/"
        },
        "id": "jE_soehUMZ6K",
        "outputId": "9667db03-3fbf-45f1-cc33-996094f499ce"
      },
      "outputs": [
        {
          "output_type": "stream",
          "name": "stdout",
          "text": [
            "Requirement already satisfied: pyspark in /usr/local/lib/python3.12/dist-packages (3.5.1)\n",
            "Requirement already satisfied: py4j==0.10.9.7 in /usr/local/lib/python3.12/dist-packages (from pyspark) (0.10.9.7)\n"
          ]
        }
      ],
      "source": [
        "!pip install pyspark"
      ]
    },
    {
      "cell_type": "code",
      "source": [
        "from pyspark import SparkContext\n",
        "from pyspark.sql import SparkSession\n",
        "import re"
      ],
      "metadata": {
        "id": "QFMj1aQ2O9W7"
      },
      "execution_count": 7,
      "outputs": []
    },
    {
      "cell_type": "code",
      "source": [
        "spark = SparkSession.builder.getOrCreate()\n",
        "sc = spark.sparkContext"
      ],
      "metadata": {
        "id": "TKATbRVEPKwn"
      },
      "execution_count": 3,
      "outputs": []
    },
    {
      "cell_type": "code",
      "source": [
        "rddCategorias = sc.textFile(\"categories.csv\")\n",
        "rddProductos = sc.textFile(\"products.csv\")\n",
        "rddResenias = sc.textFile(\"reviews.csv\")\n",
        "rddClientes = sc.textFile(\"customers.csv\")\n",
        "rddOrdenes = sc.textFile(\"orders.csv\")\n",
        "rddOrdenesProductos = sc.textFile(\"order_items.csv\")\n",
        "rddRegistrosInventario = sc.textFile(\"inventory_logs.csv\")"
      ],
      "metadata": {
        "id": "vh-lPImITsfe"
      },
      "execution_count": 29,
      "outputs": []
    },
    {
      "cell_type": "code",
      "source": [
        "import re\n",
        "import csv\n",
        "from io import StringIO\n",
        "\n",
        "def parsear_linea_csv(linea):\n",
        "    if linea.startswith(','):\n",
        "        return None\n",
        "    try:\n",
        "        archivo_csv = StringIO(linea)\n",
        "        lector = csv.reader(archivo_csv)\n",
        "        linea = next(lector)\n",
        "        return [campo.lower().strip() for campo in linea]\n",
        "    except:\n",
        "        return None"
      ],
      "metadata": {
        "id": "OFAz6ABiGNSv"
      },
      "execution_count": 27,
      "outputs": []
    },
    {
      "cell_type": "markdown",
      "source": [
        "## Consulta 1: Cuál es el estado que más descuentos tiene en total? y en promedio?"
      ],
      "metadata": {
        "id": "imGsupD_SWRI"
      }
    },
    {
      "cell_type": "code",
      "source": [
        "def extraer_estado_y_descuento (linea):\n",
        "    billing_address = linea[7]\n",
        "    discount_amount_str = linea[8]\n",
        "\n",
        "    matching = re.search(r',?\\s*([A-Za-z]{2})\\s*\\d{5}', billing_address, flags=re.IGNORECASE)\n",
        "    estado = matching.group(1).upper()\n",
        "    descuento = float(discount_amount_str)\n",
        "\n",
        "    return (estado, descuento)\n",
        "\n",
        "rddOrdenes_parseadas = rddOrdenes.map(parsear_linea_csv).filter(lambda linea: linea is not None)\n",
        "\n",
        "rddOrdenes_filtradas = rddOrdenes_parseadas.filter(lambda linea: len(linea) > 8 and linea[8] != '' and linea[7] != '' and linea[7] != 'undefined' and float(linea[8]) > 0)\n",
        "\n",
        "rddOrdenes_con_estado_descuento = rddOrdenes_filtradas.map(extraer_estado_y_descuento)\n",
        "\n",
        "rddOrdenes_con_estado_descuento.cache()\n",
        "\n",
        "total_descuento_por_estado = rddOrdenes_con_estado_descuento.reduceByKey(lambda x, y: x + y)\n",
        "\n",
        "conteo_descuento_por_estado = rddOrdenes_con_estado_descuento.mapValues(lambda x: (x, 1))\n",
        "\n",
        "total_descuento_y_conteo_por_estado = conteo_descuento_por_estado.reduceByKey(lambda x, y: (x[0] + y[0], x[1] + y[1]))\n",
        "\n",
        "promedio_descuento_por_estado = total_descuento_y_conteo_por_estado.mapValues(lambda x: x[0] / x[1] if x[1] > 0 else 0)\n",
        "\n",
        "estado_mas_descuentos = total_descuento_por_estado.reduce(lambda x, y: x if x[1] > y[1] else y)\n",
        "\n",
        "estado_mas_descuentos_promedio = promedio_descuento_por_estado.reduce(lambda x, y: x if x[1] > y[1] else y)\n",
        "\n",
        "display(estado_mas_descuentos, estado_mas_descuentos_promedio)"
      ],
      "metadata": {
        "colab": {
          "base_uri": "https://localhost:8080/",
          "height": 53
        },
        "id": "W7I29tlCJntE",
        "outputId": "7fbe9637-2582-41f5-b832-0bd556556727"
      },
      "execution_count": 30,
      "outputs": [
        {
          "output_type": "display_data",
          "data": {
            "text/plain": [
              "('AE', 1625258.6600000004)"
            ]
          },
          "metadata": {}
        },
        {
          "output_type": "display_data",
          "data": {
            "text/plain": [
              "('NC', 50.67375117676878)"
            ]
          },
          "metadata": {}
        }
      ]
    },
    {
      "cell_type": "markdown",
      "source": [
        "## Consulta 2: ¿Cuáles son los 5 códigos postales más comunes para las órdenes con estado ‘Refunded’? ¿Y cuál es el nombre más frecuente entre los clientes de esas direcciones?"
      ],
      "metadata": {
        "id": "E5vvqWWDvBIZ"
      }
    },
    {
      "cell_type": "code",
      "source": [
        "def extraer_id_y_codigo_postal(linea):\n",
        "    customer_id = linea[2]\n",
        "    billing_address = linea[7]\n",
        "\n",
        "    matching = re.search(r'\\s+(\\d{5})\\s*$', billing_address)\n",
        "    if matching:\n",
        "        codigo_postal = matching.group(1)\n",
        "        return (customer_id, codigo_postal)\n",
        "    return None\n",
        "\n",
        "rddOrdenes_parseadas = rddOrdenes.map(parsear_linea_csv).filter(lambda linea: linea is not None)\n",
        "\n",
        "rddOrdenes_filtradas = rddOrdenes_parseadas.filter(lambda linea: len(linea) > 7 and linea[2] != '' and linea[4] == 'refunded' and linea[7] != 'undefined' and linea[7] != '')\n",
        "\n",
        "rddOrdenes_con_id_codigo_postal = rddOrdenes_filtradas.map(extraer_id_y_codigo_postal).filter(lambda x: x is not None)\n",
        "\n",
        "rddOrdenes_con_id_codigo_postal.cache()\n",
        "\n",
        "cantidad_ordenes_por_codigo_postal = rddOrdenes_con_id_codigo_postal.map(lambda x: (x[1], 1)).reduceByKey(lambda x, y: x + y)\n",
        "\n",
        "top_5_codigos_postales = cantidad_ordenes_por_codigo_postal.takeOrdered(5, key=lambda x: -x[1])\n",
        "\n",
        "top_5_codigos = [codigo for codigo, count in top_5_codigos_postales]\n",
        "\n",
        "rddClientes_con_id_nombre = rddClientes.map(parsear_linea_csv).filter(lambda linea: linea is not None and len(linea) > 3 and linea[1] != '' and linea[3] != 'undefined' and linea[3] != '').map(lambda linea: (linea[1], linea[3]))\n",
        "\n",
        "rddOrdenes_con_id_codigoPostal_nombre = rddOrdenes_con_id_codigo_postal.join(rddClientes_con_id_nombre)\n",
        "\n",
        "rddOrdenes_top_5_codigos_postales = rddOrdenes_con_id_codigoPostal_nombre.filter(lambda x: x[1][0] in top_5_codigos)\n",
        "\n",
        "cantidad_ordenes_por_nombre = rddOrdenes_top_5_codigos_postales.map(lambda x: (x[1][1], 1)).reduceByKey(lambda x, y: x + y)\n",
        "\n",
        "nombre_mas_frecuente = cantidad_ordenes_por_nombre.reduce(lambda x, y: x if x[1] > y[1] else y)\n",
        "\n",
        "display(top_5_codigos_postales, nombre_mas_frecuente)"
      ],
      "metadata": {
        "colab": {
          "base_uri": "https://localhost:8080/",
          "height": 53
        },
        "id": "poxoV1n_L-cO",
        "outputId": "f3542364-9652-4c6b-daa3-de183f34da23"
      },
      "execution_count": 31,
      "outputs": [
        {
          "output_type": "display_data",
          "data": {
            "text/plain": [
              "[('31571', 6), ('09045', 5), ('14396', 5), ('73291', 5), ('91623', 5)]"
            ]
          },
          "metadata": {}
        },
        {
          "output_type": "display_data",
          "data": {
            "text/plain": [
              "('jamie', 1)"
            ]
          },
          "metadata": {}
        }
      ]
    },
    {
      "cell_type": "markdown",
      "source": [
        "## Consulta 3: Para cada tipo de pago y segmento de cliente, devolver la suma y el promedio expresado como porcentaje, de clientes activos y de consentimiento de marketing."
      ],
      "metadata": {
        "id": "GG9k2tyTbmGF"
      }
    },
    {
      "cell_type": "code",
      "source": [
        "rddOrdenes_parseadas = rddOrdenes.map(parsear_linea_csv).filter(lambda linea: linea is not None)\n",
        "\n",
        "rddOrdenes_filtradas = rddOrdenes_parseadas.filter(lambda linea: len(linea) > 5 and linea[1] != '' and linea[5] != '' and linea[5] != 'undefined')\n",
        "\n",
        "rddClientes_parseados = rddClientes.map(parsear_linea_csv).filter(lambda linea: linea is not None)\n",
        "\n",
        "rddClientes_filtrados = rddClientes_parseados.filter(lambda linea: len(linea) > 16 and linea[1] != '' and linea[14] != '' and linea[15] != '' and linea[16] != '' and linea[15] != 'undefined')\n",
        "\n",
        "rddOrdenes_con_id_MetodoPago = rddOrdenes_filtradas.map(lambda linea: (linea[1], linea[5])).reduceByKey(lambda x, y: x)\n",
        "\n",
        "rddClientes_reducidos = rddClientes_filtrados.map(lambda linea: (linea[1], (linea[14], linea[15], linea[16])))\n",
        "\n",
        "rddOrdenes_clientes = rddOrdenes_con_id_MetodoPago.join(rddClientes_reducidos)\n",
        "\n",
        "rddPagos_segmentos_clientes = rddOrdenes_clientes.map(lambda x: ((x[1][0], x[1][1][1]), (x[1][1][0] == 'true', x[1][1][2] == 'true')))\n",
        "\n",
        "suma_y_cantidad_clientes = rddPagos_segmentos_clientes.mapValues(lambda x: (int(x[0]), int(x[1]), 1)).reduceByKey(lambda x, y: (x[0] + y[0], x[1] + y[1], x[2] + y[2]))\n",
        "\n",
        "resultado = suma_y_cantidad_clientes.mapValues(lambda x: (x[0], x[1], (x[0]/x[2])*100 if x[2] > 0 else 0, (x[1]/x[2])*100 if x[2] > 0 else 0))\n",
        "\n",
        "display(resultado.collect())"
      ],
      "metadata": {
        "colab": {
          "base_uri": "https://localhost:8080/",
          "height": 589
        },
        "id": "LqsTTSB8O4-I",
        "outputId": "f06d8e86-e9a0-4aaa-e5ad-f4ad71894fad"
      },
      "execution_count": null,
      "outputs": [
        {
          "output_type": "display_data",
          "data": {
            "text/plain": [
              "[(('credit card', 'budget'),\n",
              "  (12366, 9560, 90.14433590902465, 69.68945910482577)),\n",
              " (('credit card', 'regular'),\n",
              "  (37168, 28856, 89.9907994770229, 69.86586605975498)),\n",
              " (('digital wallet', 'premium'),\n",
              "  (12529, 9718, 89.9813272048262, 69.79316288422866)),\n",
              " (('digital wallet', 'regular'),\n",
              "  (37513, 29101, 90.03696236559139, 69.84687019969277)),\n",
              " (('paypal', 'budget'), (12339, 9576, 89.96718920889538, 69.82136347065257)),\n",
              " (('cash on delivery', 'budget'),\n",
              "  (12328, 9488, 90.26872666032072, 69.47353005784579)),\n",
              " (('paypal', 'premium'), (12483, 9659, 90.12996389891697, 69.74007220216608)),\n",
              " (('bank transfer', 'budget'),\n",
              "  (12457, 9703, 89.9032909930716, 70.02742494226328)),\n",
              " (('credit card', 'premium'),\n",
              "  (12426, 9768, 89.36996547756041, 70.25316455696202)),\n",
              " (('cash on delivery', 'premium'),\n",
              "  (12522, 9739, 89.85361653272102, 69.8837543053961)),\n",
              " (('digital wallet', 'budget'),\n",
              "  (12326, 9645, 90.23426061493412, 70.60761346998537)),\n",
              " (('cash on delivery', 'regular'),\n",
              "  (37426, 29168, 89.93607920411401, 70.09179603018215)),\n",
              " (('debit card', 'premium'),\n",
              "  (12288, 9558, 90.03516998827668, 70.03223915592028)),\n",
              " (('debit card', 'budget'),\n",
              "  (12381, 9684, 89.72389303572723, 70.17899847815059)),\n",
              " (('bank transfer', 'regular'),\n",
              "  (37092, 28885, 90.01164822364589, 70.09561250242672)),\n",
              " (('paypal', 'regular'), (37013, 28822, 89.92249945336604, 70.02259420325065)),\n",
              " (('debit card', 'regular'),\n",
              "  (37295, 29019, 90.0345218839775, 70.05528329671921)),\n",
              " (('bank transfer', 'premium'), (12502, 9657, 89.8132183908046, 69.375))]"
            ]
          },
          "metadata": {}
        }
      ]
    },
    {
      "cell_type": "markdown",
      "source": [
        "## Consulta 4: Para los productos que contienen en su descripción la palabra “stuff” (sin importar mayúsculas o minúsculas), calcular el peso total de su inventario agrupado por marca, mostrar sólo la marca y el peso total de las 5 más pesadas."
      ],
      "metadata": {
        "id": "7uQ2jk6-Tadl"
      }
    },
    {
      "cell_type": "code",
      "source": [
        "rddProductos_parseados = rddProductos.map(parsear_linea_csv).filter(lambda linea: linea is not None)\n",
        "\n",
        "rddProductos_filtrados = rddProductos_parseados.filter(lambda linea: len(linea) > 10 and linea[4] != '' and linea[4] != 'undefined' and linea[8] != '' and 'stuff' in linea[10])\n",
        "\n",
        "rddProductos_con_marca_peso = rddProductos_filtrados.map(lambda linea: (linea[4], float(linea[8])))\n",
        "\n",
        "peso_total_por_marca = rddProductos_con_marca_peso.reduceByKey(lambda x, y: x + y)\n",
        "\n",
        "top_5_marcas_pesadas = peso_total_por_marca.takeOrdered(5, key=lambda x: -x[1])\n",
        "\n",
        "display(top_5_marcas_pesadas)"
      ],
      "metadata": {
        "colab": {
          "base_uri": "https://localhost:8080/",
          "height": 106
        },
        "id": "_rrmVODFUXZW",
        "outputId": "b4590de1-5cff-4d8a-8714-7e6f81d0d121"
      },
      "execution_count": null,
      "outputs": [
        {
          "output_type": "display_data",
          "data": {
            "text/plain": [
              "[('3m', 4250.86),\n",
              " ('wayfair', 4080.1700000000005),\n",
              " ('adidas', 4057.3400000000006),\n",
              " ('nike', 3614.9600000000005),\n",
              " ('hasbro', 3338.5799999999995)]"
            ]
          },
          "metadata": {}
        }
      ]
    },
    {
      "cell_type": "markdown",
      "source": [
        "## Consulta 5: Calcular el porcentaje de productos cuyo stock es al menos 20% más alto que el stock promedio de su marca"
      ],
      "metadata": {
        "id": "Ro4wlWBfuska"
      }
    },
    {
      "cell_type": "code",
      "source": [
        "total_productos = rddProductos.count()\n",
        "\n",
        "rddProductos_parseados = rddProductos.map(parsear_linea_csv).filter(lambda linea: linea is not None)\n",
        "\n",
        "rddProductos_filtrados = rddProductos_parseados.filter(lambda linea: len(linea) > 7 and linea[4] != '' and linea[4] != 'undefined' and linea[7] != '')\n",
        "\n",
        "rddProductos_con_marca_stock = rddProductos_filtrados.map(lambda linea: (linea[4], float(linea[7])))\n",
        "\n",
        "rddProductos_con_marca_stock.cache()\n",
        "\n",
        "stock_promedio_por_marca = rddProductos_con_marca_stock.map(lambda x: (x[0], (x[1], 1))).reduceByKey(lambda x, y: (x[0] + y[0], x[1] + y[1])).mapValues(lambda x: x[0] / x[1])\n",
        "\n",
        "rddProductos_con_stock_por_marca = rddProductos_con_marca_stock.join(stock_promedio_por_marca)\n",
        "\n",
        "rddProductos_con_stock_al_menos_20_porciento_mas_alto = rddProductos_con_stock_por_marca.filter(lambda x: x[1][0] > ((0.2 * x[1][1]) + x[1][1]))\n",
        "\n",
        "porcentaje_productos_al_menos_20_porciento_mas_alto = rddProductos_con_stock_al_menos_20_porciento_mas_alto.count() / total_productos * 100\n",
        "\n",
        "display(porcentaje_productos_al_menos_20_porciento_mas_alto)"
      ],
      "metadata": {
        "colab": {
          "base_uri": "https://localhost:8080/",
          "height": 35
        },
        "id": "sfnjGdZFU1i9",
        "outputId": "25cf0b48-17f5-4713-a705-0c10f7d33359"
      },
      "execution_count": null,
      "outputs": [
        {
          "output_type": "display_data",
          "data": {
            "text/plain": [
              "25.075404230747083"
            ]
          },
          "metadata": {}
        }
      ]
    },
    {
      "cell_type": "markdown",
      "source": [
        "## Consulta 6: Obtener la cantidad de órdenes que no hayan comprado ninguno de los 10 productos más vendidos."
      ],
      "metadata": {
        "id": "711PQIyeHfgI"
      }
    },
    {
      "cell_type": "code",
      "source": [
        "rddRegistrosInventario_parseados = rddRegistrosInventario.map(parsear_linea_csv).filter(lambda linea: linea is not None)\n",
        "\n",
        "rddRegistrosInventario_filtrados = rddRegistrosInventario_parseados.filter(lambda linea: len(linea) > 5 and linea[2] != '' and linea[5] == 'sale' and linea[3] == 'out')\n",
        "\n",
        "rddRegistrosInventario_productos_vendidos = rddRegistrosInventario_filtrados.map(lambda linea: (linea[2], 1)).reduceByKey(lambda x, y: x + y)\n",
        "\n",
        "top_10_productos_vendidos_lista = rddRegistrosInventario_productos_vendidos.takeOrdered(10, key=lambda x: -x[1])\n",
        "\n",
        "top_10_productos_ids = [id_producto for id_producto, cuenta in top_10_productos_vendidos_lista]\n",
        "\n",
        "top_10_productos_ids_rdd = sc.parallelize(top_10_productos_ids).map(lambda x: (x, True))\n",
        "\n",
        "rddOrdenesProductos_parseados = rddOrdenesProductos.map(parsear_linea_csv).filter(lambda linea: linea is not None)\n",
        "\n",
        "rddOrdenesProductos_filtrados = rddOrdenesProductos_parseados.filter(lambda linea: len(linea) > 3 and linea[2] != '' and linea[3] != '')\n",
        "\n",
        "rddOrdenesProductos_producto_orden = rddOrdenesProductos_filtrados.map(lambda linea: (linea[2], linea[1]))\n",
        "\n",
        "rddOrdenes_sin_top_10_productos = rddOrdenesProductos_producto_orden.leftOuterJoin(top_10_productos_ids_rdd).filter(lambda x: x[1][1] is None)\n",
        "\n",
        "ids_ordenes_unicos_sin_top_10 = rddOrdenes_sin_top_10_productos.map(lambda x: x[1][0]).distinct()\n",
        "\n",
        "cantidad_ordenes_unicas_sin_top_10 = ids_ordenes_unicos_sin_top_10.count()\n",
        "\n",
        "display(cantidad_ordenes_unicas_sin_top_10)"
      ],
      "metadata": {
        "colab": {
          "base_uri": "https://localhost:8080/",
          "height": 35
        },
        "id": "4j4ui8gkWUbA",
        "outputId": "1f083d13-e16f-48de-ac97-2d7c6b86fb07"
      },
      "execution_count": null,
      "outputs": [
        {
          "output_type": "display_data",
          "data": {
            "text/plain": [
              "285243"
            ]
          },
          "metadata": {}
        }
      ]
    },
    {
      "cell_type": "markdown",
      "source": [
        "## Consulta 7: ¿Cuáles son los productos más vendidos en cada categoría?"
      ],
      "metadata": {
        "id": "p2Sqrk1bkW_p"
      }
    },
    {
      "cell_type": "code",
      "source": [
        "def encontrar_producto_mas_vendido(productos):\n",
        "    if not productos:\n",
        "        return None\n",
        "    return max(productos, key=lambda x: x[1])\n",
        "\n",
        "rddRegistrosInventario_parseados = rddRegistrosInventario.map(parsear_linea_csv).filter(lambda linea: linea is not None)\n",
        "\n",
        "rddRegistrosInventario_filtrados = rddRegistrosInventario_parseados.filter(lambda linea: len(linea) > 5 and linea[2] != '' and linea[5] == 'sale' and linea[3] == 'out')\n",
        "\n",
        "rddRegistrosInventario_productos_vendidos = rddRegistrosInventario_filtrados.map(lambda linea: (linea[2], 1)).reduceByKey(lambda x, y: x + y)\n",
        "\n",
        "rddCategorias_parseadas = rddCategorias.map(parsear_linea_csv).filter(lambda linea: linea is not None)\n",
        "\n",
        "rddCategorias_filtradas = rddCategorias_parseadas.filter(lambda linea: len(linea) > 2 and linea[1] != '' and linea[2] != '' and linea[2] != 'undefined')\n",
        "\n",
        "rddCategorias_nombres = rddCategorias_filtradas.map(lambda linea: (linea[1], linea[2]))\n",
        "\n",
        "rddProductos_parseados = rddProductos.map(parsear_linea_csv).filter(lambda linea: linea is not None)\n",
        "\n",
        "rddProductos_filtrados = rddProductos_parseados.filter(lambda linea: len(linea) > 3 and linea[1] != '' and linea[3] != '')\n",
        "\n",
        "rddProductos_info = rddProductos_filtrados.map(lambda linea: (linea[1], (linea[2], linea[3])))\n",
        "\n",
        "rddProductos_vendidos_info = rddProductos_info.join(rddRegistrosInventario_productos_vendidos)\n",
        "\n",
        "rddProductos_por_categoria = rddProductos_vendidos_info.map(lambda x: (x[1][0][1], (x[1][0][0], x[1][1])))\n",
        "\n",
        "rddProductos_por_categoria_con_nombre = rddProductos_por_categoria.join(rddCategorias_nombres)\n",
        "\n",
        "rddProductos_por_categoria_final = rddProductos_por_categoria_con_nombre.map(lambda x: (x[1][1], (x[1][0][0], x[1][0][1])))\n",
        "\n",
        "producto_mas_vendido_por_categoria = rddProductos_por_categoria_final.groupByKey().mapValues(encontrar_producto_mas_vendido)\n",
        "\n",
        "display(producto_mas_vendido_por_categoria.collect())"
      ],
      "metadata": {
        "colab": {
          "base_uri": "https://localhost:8080/",
          "height": 1000
        },
        "id": "0XCCKzT9X3WJ",
        "outputId": "7a83d880-778e-4940-87bd-b425005c5808"
      },
      "execution_count": null,
      "outputs": [
        {
          "output_type": "display_data",
          "data": {
            "text/plain": [
              "[('adhesives', ('secured secondary approach', 3)),\n",
              " ('smartphones', ('re-engineered system-worthy moratorium', 2)),\n",
              " ('grilling', ('cross-platform 5thgeneration knowledgebase', 2)),\n",
              " ('software', ('vision-oriented transitional parallelism', 2)),\n",
              " ('action figures', ('decentralized solution-oriented open architecture', 3)),\n",
              " ('sporting event tickets', ('future-proofed regional emulation', 2)),\n",
              " ('living room', ('future-proofed hybrid software', 2)),\n",
              " ('power tools', ('expanded static product', 2)),\n",
              " ('blu-ray', ('assimilated asynchronous moratorium', 2)),\n",
              " ('travel packages', ('customer-focused systemic neural-net', 2)),\n",
              " ('figurines', ('multi-lateral multi-tasking middleware', 2)),\n",
              " ('video games', ('multi-lateral eco-centric core', 2)),\n",
              " ('baby clothing', ('function-based 24hour groupware', 2)),\n",
              " ('cameras', ('re-engineered intermediate initiative', 3)),\n",
              " ('merchandise', ('inverse upward-trending local area network', 3)),\n",
              " ('outerwear', ('managed zero-defect concept', 2)),\n",
              " ('outdoor furniture', ('visionary background architecture', 3)),\n",
              " ('coins', ('optimized holistic info-mediaries', 2)),\n",
              " ('sensors', ('front-line directional framework', 2)),\n",
              " (\"children's shoes\", ('ameliorated eco-centric data-warehouse', 3)),\n",
              " ('wind instruments', ('multi-tiered multi-tasking approach', 2)),\n",
              " ('luggage', ('', 3)),\n",
              " ('paper crafts', ('cross-platform encompassing protocol', 3)),\n",
              " ('beading', ('customizable maximized knowledgebase', 3)),\n",
              " ('stamps', ('down-sized client-server capability', 3)),\n",
              " ('outdoor', ('implemented multimedia strategy', 3)),\n",
              " ('dinnerware', ('phased national solution', 2)),\n",
              " (\"women's clothing\", ('exclusive real-time circuit', 2)),\n",
              " ('art supplies', ('synchronized dedicated knowledge user', 2)),\n",
              " ('training', ('cloned secondary graphical user interface', 2)),\n",
              " ('tools', ('multi-layered fault-tolerant success', 3)),\n",
              " ('guides', ('polarized grid-enabled protocol', 2)),\n",
              " ('plumbing', ('devolved dedicated synergy', 2)),\n",
              " ('bakeware', ('sharable coherent support', 2)),\n",
              " ('fitness apparel', ('horizontal upward-trending structure', 3)),\n",
              " ('organic food', ('intuitive asymmetric intranet', 2)),\n",
              " ('diapers', ('diverse scalable portal', 3)),\n",
              " ('cycling', ('organic uniform frame', 3)),\n",
              " ('rings', ('team-oriented client-driven project', 3)),\n",
              " ('pet toys', ('pre-emptive discrete help-desk', 3)),\n",
              " ('bbq grills', ('cross-platform local initiative', 2)),\n",
              " ('athletic shoes', ('triple-buffered responsive approach', 2)),\n",
              " (\"men's clothing\", ('digitized even-keeled array', 2)),\n",
              " ('educational toys', ('open-source optimizing open architecture', 3)),\n",
              " ('car electronics', ('phased multimedia matrix', 2)),\n",
              " ('cookware', ('', 2)),\n",
              " ('dining', ('object-based optimizing architecture', 3)),\n",
              " ('beds', ('progressive multi-tasking application', 3)),\n",
              " ('measuring instruments', ('future-proofed bottom-line monitoring', 2)),\n",
              " ('canvas & paper', ('right-sized national system engine', 3)),\n",
              " (\"men's shoes\", ('adaptive context-sensitive array', 2)),\n",
              " (\"children's books\", ('enterprise-wide disintermediate projection', 2)),\n",
              " ('haircare', ('enterprise-wide bottom-line portal', 3)),\n",
              " ('textbooks', ('undefined', 2)),\n",
              " ('snacks', ('object-based national neural-net', 2)),\n",
              " ('travel clothing', ('de-engineered composite support', 2)),\n",
              " ('personal care', ('', 3)),\n",
              " ('safety supplies', ('configurable mobile algorithm', 2)),\n",
              " ('plants', ('adaptive empowering product', 1)),\n",
              " ('pet grooming', ('de-engineered well-modulated benchmark', 2)),\n",
              " ('televisions', ('managed dedicated service-desk', 2)),\n",
              " ('travel accessories', ('enhanced 24/7 solution', 2)),\n",
              " ('handmade clothing', ('automated zero administration access', 2)),\n",
              " ('car accessories', ('undefined', 2)),\n",
              " ('pens & pencils', ('automated radical contingency', 3)),\n",
              " ('game accessories', ('down-sized bottom-line alliance', 2)),\n",
              " (\"children's clothing\", ('switchable multi-state flexibility', 2)),\n",
              " ('dlc', ('object-based multi-tasking capacity', 2)),\n",
              " ('drums', ('operative national intranet', 2)),\n",
              " ('necklaces', ('cross-group static knowledgebase', 3)),\n",
              " ('condiments', ('exclusive upward-trending throughput', 2)),\n",
              " ('organizers', ('expanded maximized installation', 2)),\n",
              " ('watches', ('diverse leadingedge product', 2)),\n",
              " ('apparel', ('customizable zero tolerance system engine', 2)),\n",
              " ('fragrances', ('right-sized neutral application', 3)),\n",
              " ('professional tools', ('enhanced systemic attitude', 3)),\n",
              " ('specialty', ('fundamental zero-defect firmware', 2)),\n",
              " ('tires', ('grass-roots multi-tasking infrastructure', 3)),\n",
              " ('drawing supplies', ('open-architected fresh-thinking capability', 2)),\n",
              " ('tablets', ('horizontal radical adapter', 2)),\n",
              " ('makeup', ('', 3)),\n",
              " ('leashes & collars', ('progressive modular challenge', 3)),\n",
              " ('greeting cards', ('progressive mobile architecture', 2)),\n",
              " ('dairy', ('ergonomic demand-driven array', 2)),\n",
              " ('supplements', ('intuitive object-oriented capacity', 3)),\n",
              " ('furniture', ('fully-configurable demand-driven moratorium', 2)),\n",
              " ('cabinets', ('open-architected multimedia synergy', 2)),\n",
              " ('accessories', ('stand-alone client-driven ability', 2)),\n",
              " ('paints', ('total logistical flexibility', 2)),\n",
              " ('team sports', ('secured grid-enabled software', 2)),\n",
              " ('landscape', ('quality-focused homogeneous task-force', 2)),\n",
              " ('printers', ('', 3)),\n",
              " ('theater tickets', ('diverse dedicated implementation', 3)),\n",
              " ('comics', ('monitored mission-critical local area network', 3)),\n",
              " ('grooming', ('profound cohesive architecture', 3)),\n",
              " ('guitars', ('public-key dynamic success', 2)),\n",
              " ('notebooks', ('mandatory even-keeled service-desk', 3)),\n",
              " ('lighting', ('secured demand-driven moderator', 3)),\n",
              " ('baking supplies', ('', 2)),\n",
              " ('streaming', ('undefined', 2)),\n",
              " ('backpacks', ('optional zero tolerance paradigm', 2)),\n",
              " ('baking', ('expanded composite infrastructure', 2)),\n",
              " ('appliances', ('monitored bifurcated complexity', 2)),\n",
              " ('fiction', ('networked intangible monitoring', 2)),\n",
              " ('safety gear', ('right-sized 6thgeneration process improvement', 2)),\n",
              " ('gardening tools', ('decentralized interactive algorithm', 2)),\n",
              " ('tours', ('assimilated static policy', 2)),\n",
              " ('handmade jewelry', ('', 2)),\n",
              " ('pet medications', ('digitized bottom-line system engine', 2)),\n",
              " ('dvds', ('fully-configurable incremental definition', 2)),\n",
              " ('healthcare', ('open-source high-level internet solution', 2)),\n",
              " ('e-books', ('proactive homogeneous concept', 2)),\n",
              " ('gourmet', ('diverse asymmetric moderator', 2)),\n",
              " ('vinyl', ('customizable fault-tolerant knowledge user', 2)),\n",
              " ('earrings', ('right-sized 6thgeneration process improvement', 2)),\n",
              " ('bracelets', ('customizable 24hour function', 2)),\n",
              " ('pantry', ('reduced disintermediate structure', 2)),\n",
              " ('fasteners', ('ergonomic static success', 3)),\n",
              " ('chairs', ('re-contextualized non-volatile hub', 2)),\n",
              " ('office furniture', ('enhanced homogeneous projection', 2)),\n",
              " ('laptops', ('switchable client-driven algorithm', 2)),\n",
              " ('in-game currency', ('realigned human-resource model', 2)),\n",
              " ('camping gear', ('ameliorated reciprocal matrices', 2)),\n",
              " ('workshops', ('multi-tiered asymmetric workforce', 3)),\n",
              " ('toys', ('innovative tertiary groupware', 3)),\n",
              " ('lab equipment', ('diverse intangible leverage', 2)),\n",
              " ('art', ('integrated fresh-thinking complexity', 3)),\n",
              " (\"women's shoes\", ('robust dynamic strategy', 2)),\n",
              " ('pens', ('assimilated system-worthy concept', 2)),\n",
              " ('utensils', ('undefined', 2)),\n",
              " ('safety', ('re-engineered next generation neural-net', 2)),\n",
              " ('cds', ('team-oriented bifurcated help-desk', 2)),\n",
              " ('puzzles', ('quality-focused global workforce', 2)),\n",
              " ('planners', ('sharable tertiary attitude', 2)),\n",
              " ('dolls', ('customer-focused full-range policy', 2)),\n",
              " ('pianos', ('compatible coherent instruction set', 2)),\n",
              " ('boots', ('implemented executive orchestration', 2)),\n",
              " ('beverages', ('public-key actuating software', 3)),\n",
              " ('non-fiction', ('profit-focused optimizing strategy', 2)),\n",
              " ('fishing', ('undefined', 2)),\n",
              " ('office', ('seamless solution-oriented flexibility', 3)),\n",
              " ('headphones', ('undefined', 2)),\n",
              " ('handmade home decor', ('public-key contextually-based adapter', 2)),\n",
              " ('memorabilia', ('customer-focused fresh-thinking collaboration', 2)),\n",
              " ('board games', ('synchronized context-sensitive flexibility', 2)),\n",
              " ('pet beds', ('', 3)),\n",
              " ('hand tools', ('implemented directional initiative', 3)),\n",
              " ('exercise equipment', ('enhanced scalable methodology', 2)),\n",
              " ('craft kits', ('diverse executive success', 2)),\n",
              " ('sandals', ('digitized tertiary archive', 3)),\n",
              " ('cutlery', ('', 3))]"
            ]
          },
          "metadata": {}
        }
      ]
    },
    {
      "cell_type": "markdown",
      "source": [
        "## Consulta 8: ¿Cuáles son las palabras más utilizadas en opiniones positivas y en opiniones negativas? (una opinión es positiva cuando tiene una puntuación mayor a 3 puntos y es negativa cuando es menor a 3 puntos)"
      ],
      "metadata": {
        "id": "Tt8bn9-wzv3l"
      }
    },
    {
      "cell_type": "code",
      "source": [
        "rddResenias_parseadas = rddResenias.map(parsear_linea_csv).filter(lambda linea: linea is not None)\n",
        "\n",
        "rddResenias_filtradas = rddResenias_parseadas.filter(lambda linea: len(linea) > 6 and linea[4] != '' and linea[6] != '' and linea[6] != 'undefined')\n",
        "\n",
        "rddResenias_puntuacion_opinion = rddResenias_filtradas.map(lambda linea: (float(linea[4]), linea[6]))\n",
        "\n",
        "rddResenias_puntuacion_opinion.cache()\n",
        "\n",
        "rddResenias_positivas = rddResenias_puntuacion_opinion.filter(lambda x: x[0] > 3)\n",
        "\n",
        "rddResenias_negativas = rddResenias_puntuacion_opinion.filter(lambda x: x[0] < 3)\n",
        "\n",
        "rddResenias_positivas_palabras = rddResenias_positivas.flatMap(lambda x: re.findall(r'\\b\\w+\\b', x[1]))\n",
        "\n",
        "rddResenias_negativas_palabras = rddResenias_negativas.flatMap(lambda x: re.findall(r'\\b\\w+\\b', x[1]))\n",
        "\n",
        "palabras_positivas_mas_usadas = rddResenias_positivas_palabras.map(lambda x: (x, 1)).reduceByKey(lambda x, y: x + y).takeOrdered(3, key=lambda x: -x[1])\n",
        "\n",
        "palabras_negativas_mas_usadas = rddResenias_negativas_palabras.map(lambda x: (x, 1)).reduceByKey(lambda x, y: x + y).takeOrdered(3, key=lambda x: -x[1])\n",
        "\n",
        "display(palabras_positivas_mas_usadas, palabras_negativas_mas_usadas)"
      ],
      "metadata": {
        "colab": {
          "base_uri": "https://localhost:8080/",
          "height": 53
        },
        "id": "ZCCcqUfFRogW",
        "outputId": "0dcaafca-9d44-4b46-e85d-e809040dd807"
      },
      "execution_count": null,
      "outputs": [
        {
          "output_type": "display_data",
          "data": {
            "text/plain": [
              "[('stuff', 1773), ('buy', 1772), ('answer', 1760)]"
            ]
          },
          "metadata": {}
        },
        {
          "output_type": "display_data",
          "data": {
            "text/plain": [
              "[('check', 265), ('game', 265), ('amount', 263)]"
            ]
          },
          "metadata": {}
        }
      ]
    },
    {
      "cell_type": "markdown",
      "source": [
        "## Consulta 9: ¿Cuáles son los estados con mayor cantidad de ventas?"
      ],
      "metadata": {
        "id": "h3MW5LQICYAb"
      }
    },
    {
      "cell_type": "code",
      "source": [
        "def extraer_estado(linea):\n",
        "    billing_address = linea[7]\n",
        "\n",
        "    matching = re.search(r',?\\s*([A-Za-z]{2})\\s*\\d{5}', billing_address, flags=re.IGNORECASE)\n",
        "    estado = matching.group(1).upper()\n",
        "\n",
        "    return estado\n",
        "\n",
        "rddOrdenes_parseadas = rddOrdenes.map(parsear_linea_csv).filter(lambda linea: linea is not None)\n",
        "\n",
        "rddOrdenes_filtradas = rddOrdenes_parseadas.filter(lambda linea: len(linea) > 7 and linea[7] != '' and linea[7] != 'undefined' and linea[4] == 'completed')\n",
        "\n",
        "rddOrdenes_con_estado = rddOrdenes_filtradas.map(extraer_estado)\n",
        "\n",
        "ventas_por_estado = rddOrdenes_con_estado.map(lambda linea: (linea, 1)).reduceByKey(lambda x, y: x + y)\n",
        "\n",
        "estados_con_mas_ventas = ventas_por_estado.takeOrdered(3, key=lambda x: -x[1])\n",
        "\n",
        "display(estados_con_mas_ventas)"
      ],
      "metadata": {
        "colab": {
          "base_uri": "https://localhost:8080/",
          "height": 35
        },
        "id": "1WDBpe0xTgFX",
        "outputId": "d903d597-c961-4a76-bb1e-e4379c3f2509"
      },
      "execution_count": null,
      "outputs": [
        {
          "output_type": "display_data",
          "data": {
            "text/plain": [
              "[('AE', 97669), ('AP', 97534), ('AA', 96728)]"
            ]
          },
          "metadata": {}
        }
      ]
    },
    {
      "cell_type": "markdown",
      "source": [
        "## Consulta 10: ¿Cuál es el valor promedio de una orden de compra para cada segmento de cliente?"
      ],
      "metadata": {
        "id": "ywhu4j6vMBfQ"
      }
    },
    {
      "cell_type": "code",
      "source": [
        "rddOrdenes_parseadas = rddOrdenes.map(parsear_linea_csv).filter(lambda linea: linea is not None)\n",
        "\n",
        "rddOrdenes_filtradas = rddOrdenes_parseadas.filter(lambda linea: len(linea) > 11 and linea[2] != '' and linea[11] != '')\n",
        "\n",
        "rddClientes_parseados = rddClientes.map(parsear_linea_csv).filter(lambda linea: linea is not None)\n",
        "\n",
        "rddClientes_filtrados = rddClientes_parseados.filter(lambda linea: len(linea) > 15 and linea[1] != '' and linea[15] != '' and linea[15] != 'undefined')\n",
        "\n",
        "rddOrdenes_con_id_valor = rddOrdenes_filtradas.map(lambda linea: (linea[2], float(linea[11])))\n",
        "\n",
        "rddClientes_reducidos = rddClientes_filtrados.map(lambda linea: (linea[1], (linea[15])))\n",
        "\n",
        "rddOrdenes_clientes = rddOrdenes_con_id_valor.join(rddClientes_reducidos)\n",
        "\n",
        "rddOrdenes_clientes_segmentos = rddOrdenes_clientes.map(lambda x: (x[1][1], (x[1][0], 1)))\n",
        "\n",
        "valor_promedio_por_segmento = rddOrdenes_clientes_segmentos.reduceByKey(lambda x, y: (x[0] + y[0], x[1] + y[1])).mapValues(lambda x: x[0] / x[1])\n",
        "\n",
        "display(valor_promedio_por_segmento.collect())"
      ],
      "metadata": {
        "colab": {
          "base_uri": "https://localhost:8080/",
          "height": 71
        },
        "id": "vO5yf0htUvHx",
        "outputId": "a18a1712-59d8-4653-9eb9-a911c2db4483"
      },
      "execution_count": null,
      "outputs": [
        {
          "output_type": "display_data",
          "data": {
            "text/plain": [
              "[('regular', 24.997134690962728),\n",
              " ('budget', 24.99471581416989),\n",
              " ('premium', 24.99973741902044)]"
            ]
          },
          "metadata": {}
        }
      ]
    }
  ]
}